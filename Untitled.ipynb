{
 "cells": [
  {
   "cell_type": "code",
   "execution_count": 1,
   "id": "d86a37a1-b999-41b3-955b-9fda68c871f7",
   "metadata": {
    "tags": []
   },
   "outputs": [],
   "source": [
    "import yfinance as yf\n",
    "import pandas as pd\n",
    "import matplotlib as plt\n",
    "import xlsxwriter\n",
    "from openpyxl.utils.dataframe import dataframe_to_rows"
   ]
  },
  {
   "cell_type": "code",
   "execution_count": 2,
   "id": "8ceca78c-67d5-423e-9672-69eee646c9f3",
   "metadata": {
    "tags": []
   },
   "outputs": [],
   "source": [
    "\n",
    "# Get data\n",
    "stock = yf.Ticker(\"AAPL\")\n",
    "income_statement = stock.income_stmt\n",
    "balance_sheet = stock.balance_sheet\n",
    "cash_flow_statement= stock.cashflow\n",
    "\n",
    "# Create a Pandas Excel writer using XlsxWriter as the engine.\n",
    "writer = pd.ExcelWriter('out.xlsx', engine='xlsxwriter')\n",
    "\n",
    "# Write each DataFrame to a different worksheet.\n",
    "income_statement.to_excel(writer, sheet_name='Income Statement')\n",
    "balance_sheet.to_excel(writer, sheet_name='Balance Sheet')\n",
    "cash_flow_statement.to_excel(writer, sheet_name='Cashflow Statement')\n",
    "\n",
    "# Close the Pandas Excel writer and output the Excel file.\n",
    "writer.close()\n"
   ]
  },
  {
   "cell_type": "code",
   "execution_count": null,
   "id": "6b024aad-fc17-45da-81ac-2fa14df8accd",
   "metadata": {},
   "outputs": [],
   "source": [
    "from openpyxl import Workbook,load_workbook\n",
    "import datetime"
   ]
  },
  {
   "cell_type": "code",
   "execution_count": null,
   "id": "a8f18241-8a68-42e5-8d1c-f4723418fafe",
   "metadata": {},
   "outputs": [],
   "source": [
    "wb=load_workbook('out.xlsx')\n",
    "ins=wb['Income Statement']\n",
    "bs=wb['Balance Sheet']\n",
    "cf=wb['Cashflow Statement']\n"
   ]
  },
  {
   "cell_type": "code",
   "execution_count": null,
   "id": "9bea25de",
   "metadata": {},
   "outputs": [],
   "source": [
    "#auto fit column width\n",
    "\n",
    "# Assuming 'wb' is your Workbook object and 'bs', 'cf', and 'ins' are your Worksheet objects\n",
    "worksheets = [bs, cf, ins]\n",
    "\n",
    "for ws in worksheets:\n",
    "    for letter in ['A', 'B', 'C', 'D']:\n",
    "        max_length = 0\n",
    "        column_cells = ws[letter]  # Get all cells in the column\n",
    "        for cell in column_cells:\n",
    "            if cell.value is not None and len(str(cell.value)) > max_length:\n",
    "                max_length = len(str(cell.value))\n",
    "        ws.column_dimensions[letter].width = max_length\n",
    "\n",
    "# Assuming 'wb' is your Workbook object and 'bs', 'cf', and 'ins' are your Worksheet objects\n",
    "worksheets = [bs, cf, ins]\n",
    "\n",
    "for ws in worksheets:\n",
    "    for letter in ['B', 'C', 'D','E']:\n",
    "        ws.column_dimensions[letter].width = 12\n"
   ]
  },
  {
   "cell_type": "code",
   "execution_count": null,
   "id": "228862a4",
   "metadata": {},
   "outputs": [
    {
     "name": "stdout",
     "output_type": "stream",
     "text": [
      "2023-09-30\n"
     ]
    }
   ],
   "source": [
    "# date.time\n",
    "\n",
    "# Convert the cell values to a date (removing the time)\n",
    "for cell in ['B1', 'C1', 'D1', 'E1']:\n",
    "    if isinstance(ins[cell].value, datetime.datetime):\n",
    "        ins[cell].value = ins[cell].value.date()\n",
    "        # Change the number format to 'mm/dd/yyyy'\n",
    "        ins[cell].number_format = 'mm/dd/yyyy'\n",
    "for cell in ['B1', 'C1', 'D1', 'E1']:\n",
    "    if isinstance(bs[cell].value, datetime.datetime):\n",
    "        bs[cell].value = bs[cell].value.date()\n",
    "        # Change the number format to 'mm/dd/yyyy'\n",
    "        bs[cell].number_format = 'mm/dd/yyyy'\n",
    "for cell in ['B1', 'C1', 'D1', 'E1']:\n",
    "    if isinstance(cf[cell].value, datetime.datetime):\n",
    "        cf[cell].value = cf[cell].value.date()\n",
    "        # Change the number format to 'mm/dd/yyyy'\n",
    "        cf[cell].number_format = 'mm/dd/yyyy'     \n",
    "print(ins['B1'].value) \n",
    "    "
   ]
  },
  {
   "cell_type": "code",
   "execution_count": null,
   "id": "d5997ecc",
   "metadata": {},
   "outputs": [
    {
     "name": "stdout",
     "output_type": "stream",
     "text": [
      "Net Income From Continuing Operations\n"
     ]
    }
   ],
   "source": [
    "# Making the sheet upside down\n",
    "\n",
    "# Get the maximum row number\n",
    "max_row = ins.max_row\n",
    "\n",
    "# Swap rows in the Income Statement (based on your requirement)\n",
    "for row_index in range(2, (max_row // 2) + 1):\n",
    "    top_row_cells = list(ins.iter_rows(min_row=row_index, max_row=row_index, values_only=True))[0]\n",
    "    bottom_row_cells = list(ins.iter_rows(min_row=max_row - row_index + 2, max_row=max_row - row_index + 2, values_only=True))[0]\n",
    "    for col_index, (top_cell_value, bottom_cell_value) in enumerate(zip(top_row_cells, bottom_row_cells), start=1):\n",
    "        ins.cell(row=row_index, column=col_index).value = bottom_cell_value\n",
    "        ins.cell(row=max_row - row_index + 2, column=col_index).value = top_cell_value\n",
    "\n",
    "max_row_bs = bs.max_row\n",
    "\n",
    "# Swap rows in the Balance Sheet\n",
    "for row_index_bs in range(2, (max_row_bs // 2) + 1):\n",
    "    top_row_cells_bs = list(bs.iter_rows(min_row=row_index_bs, max_row=row_index_bs, values_only=True))[0]\n",
    "    bottom_row_cells_bs = list(bs.iter_rows(min_row=max_row_bs - row_index_bs + 2, max_row=max_row_bs - row_index_bs + 2, values_only=True))[0]\n",
    "    for col_index_bs, (top_cell_value_bs, bottom_cell_value_bs) in enumerate(zip(top_row_cells_bs, bottom_row_cells_bs), start=1):\n",
    "        bs.cell(row=row_index_bs, column=col_index_bs).value = bottom_cell_value_bs\n",
    "        bs.cell(row=max_row_bs - row_index_bs + 2, column=col_index_bs).value = top_cell_value_bs\n",
    "max_row_cf=cf.max_row\n",
    "for row_index_cf in range(2, (max_row_cf // 2) + 1):\n",
    "    top_row_cells_cf = list(cf.iter_rows(min_row=row_index_cf, max_row=row_index_cf, values_only=True))[0]\n",
    "    bottom_row_cells_cf = list(cf.iter_rows(min_row=max_row_cf - row_index_cf + 2, max_row=max_row_cf - row_index_cf + 2, values_only=True))[0]\n",
    "    for col_index_cf, (top_cell_value_cf, bottom_cell_value_cf) in enumerate(zip(top_row_cells_cf, bottom_row_cells_cf), start=1):\n",
    "        cf.cell(row=row_index_cf, column=col_index_cf).value = bottom_cell_value_cf\n",
    "        cf.cell(row=max_row_cf - row_index_cf + 2, column=col_index_cf).value = top_cell_value_cf\n",
    "print(cf['A2'].value)\n",
    "\n"
   ]
  },
  {
   "cell_type": "code",
   "execution_count": null,
   "id": "3bcb6dd0",
   "metadata": {},
   "outputs": [],
   "source": [
    "# Assuming 'wb' is your Workbook object and 'roic' is your Worksheet object\n",
    "max_length = 0\n",
    "column_cells = ins['A']  # Get all cells in column A\n",
    "for cell in column_cells:\n",
    "    try:  # Necessary to avoid error on empty cells\n",
    "        if len(str(cell.value)) > max_length:\n",
    "            max_length = len(str(cell.value))\n",
    "    except:\n",
    "        pass\n",
    "adjusted_width = (max_length + 2) * 1.2\n",
    "ins.column_dimensions['A'].width = adjusted_width\n",
    "\n",
    "max_length = 0\n",
    "column_cells = bs['A']  # Get all cells in column A\n",
    "for cell in column_cells:\n",
    "    try:  # Necessary to avoid error on empty cells\n",
    "        if len(str(cell.value)) > max_length:\n",
    "            max_length = len(str(cell.value))\n",
    "    except:\n",
    "        pass\n",
    "adjusted_width = (max_length + 2) * 1.2\n",
    "bs.column_dimensions['A'].width = adjusted_width"
   ]
  },
  {
   "cell_type": "code",
   "execution_count": null,
   "id": "5f82cc7f-dd64-4395-9e6c-4ead3c735d57",
   "metadata": {},
   "outputs": [],
   "source": [
    "roic = wb.create_sheet('ROIC')\n",
    "roic['A2']=\"NOPAT\"\n",
    "\n",
    "for col in range(2, 6):  # Assuming columns B to E have the data\n",
    "    roic.cell(row=1, column=col).value = ins.cell(row=1, column=col).value\n",
    "    roic.cell(row=2, column=col).value = ins.cell(row=8, column=col).value  #\n",
    "#Example: Calculate NOPAT for years\n",
    "for col in ['B', 'C', 'D', 'E']:\n",
    "    val_33 = ins[col + '33'].value if ins[col + '33'].value is not None else 0\n",
    "    val_34= ins[col + '34'].value if ins[col + '34'].value is not None else 0\n",
    "    val_16 = ins[col + '16'].value if ins[col + '16'].value is not None else 0\n",
    "    val_31 = ins[col + '31'].value if ins[col + '31'].value is not None else 0\n",
    "    val_39 = ins[col + '39'].value if ins[col + '39'].value is not None else 0\n",
    "\n",
    "    roic[col + '2'] = (val_33 + val_34) / 2 - val_16 - val_31 * val_39\n"
   ]
  },
  {
   "cell_type": "code",
   "execution_count": 254,
   "id": "ae5f633f",
   "metadata": {},
   "outputs": [],
   "source": [
    "#R&D adjustment\n",
    "roic['A3'] = \"NOPAT(adjusted)\"\n",
    "# Calculate the average of R&D values in cells B7 to B10\n",
    "rd_cells = [ins[cell].value for cell in ['B7', 'B8', 'B9', 'B10']]\n",
    "rd_values = [value for value in rd_cells if value is not None]\n",
    "RD = sum(rd_values) / len(rd_values) if rd_values else 0\n",
    "\n",
    "# Calculate the difference between the first R&D value (B7) and the average\n",
    "RD_different = ins['B7'].value - RD if ins['B7'].value is not None else 0\n",
    "\n",
    "# Calculate the %RD\n",
    "percent_RD = RD_different / ((ins['B33'].value + ins['B34'].value) / 2) if ((ins['B33'].value + ins['B34'].value) / 2) != 0 else 0\n",
    "\n",
    "# Assigning values to cells in the ROIC sheet\n",
    "roic['B3'] = roic['B2'].value * (RD_different + 1)\n",
    "roic['C3'] = roic['C2'].value * (RD_different + 1)\n",
    "roic['D3'] = roic['D2'].value * (RD_different + 1)\n",
    "roic['E3'] = roic['E2'].value * (RD_different + 1)\n"
   ]
  },
  {
   "cell_type": "code",
   "execution_count": 255,
   "id": "ad97a8f3",
   "metadata": {},
   "outputs": [],
   "source": [
    "roic['A4']=\"Invested Capital(Operating)\"\n",
    "\n",
    "roic['A5']=\"Invested Capital(Financing)\"\n",
    "\n",
    "roic['A6']=\"Invested Capital\"\n",
    "\n",
    "# Assuming 'roic' is your ROIC Worksheet object\n",
    "\n",
    "# Initialize the column values\n",
    "for col in ['B', 'C', 'D', 'E']:\n",
    "    val_2 = ins[col + '2'].value if ins[col + '2'].value is not None else 0\n",
    "    val_7 = bs[col + '7'].value if bs[col + '7'].value is not None else 0\n",
    "    val_10 = bs[col + '10'].value if bs[col + '10'].value is not None else 0\n",
    "    val_11 = bs[col + '11'].value if bs[col + '11'].value is not None else 0\n",
    "    val_37 = bs[col + '37'].value if bs[col + '37'].value is not None else 0\n",
    "    val_31 = bs[col + '31'].value if bs[col + '31'].value is not None else 0\n",
    "    val_19 = bs[col + '19'].value if bs[col + '19'].value is not None else 0\n",
    "    val_16 = bs[col + '16'].value if bs[col + '16'].value is not None else 0\n",
    "    val_24 = bs[col + '24'].value if bs[col + '24'].value is not None else 0\n",
    "    val_38 = bs[col + '38'].value if bs[col + '38'].value is not None else 0\n",
    "    val_34 = bs[col + '34'].value if bs[col + '34'].value is not None else 0\n",
    "    val_49 = bs[col + '49'].value if bs[col + '49'].value is not None else 0\n",
    "    val_27 = bs[col + '27'].value if bs[col + '27'].value is not None else 0\n",
    "    # Calculate and assign values to 'ROIC' sheet\n",
    "    roic[col + '4'] = 0.02 * val_2 + val_7 + val_10 + val_11 - val_27 + val_19 + val_16 + val_24\n",
    "    roic[col + '5'] = val_31 + val_38 + val_34 + val_49\n",
    "    roic[col + '6'] = (roic[col + '3'].value + roic[col + '4'].value)/2\n",
    "\n"
   ]
  },
  {
   "cell_type": "code",
   "execution_count": 257,
   "id": "f3e7c914-de3f-42b3-bf2e-9d87b984637e",
   "metadata": {
    "tags": []
   },
   "outputs": [],
   "source": [
    "wb.save('out.xlsx')"
   ]
  },
  {
   "cell_type": "code",
   "execution_count": null,
   "id": "28391f86",
   "metadata": {},
   "outputs": [],
   "source": []
  },
  {
   "cell_type": "code",
   "execution_count": null,
   "id": "ef1b4867",
   "metadata": {},
   "outputs": [],
   "source": []
  },
  {
   "cell_type": "code",
   "execution_count": null,
   "id": "84859fb6-1d2e-4f2b-8d64-2a6ef9b0db7f",
   "metadata": {},
   "outputs": [],
   "source": []
  }
 ],
 "metadata": {
  "kernelspec": {
   "display_name": "Python 3 (ipykernel)",
   "language": "python",
   "name": "python3"
  },
  "language_info": {
   "codemirror_mode": {
    "name": "ipython",
    "version": 3
   },
   "file_extension": ".py",
   "mimetype": "text/x-python",
   "name": "python",
   "nbconvert_exporter": "python",
   "pygments_lexer": "ipython3",
   "version": "3.11.5"
  }
 },
 "nbformat": 4,
 "nbformat_minor": 5
}
