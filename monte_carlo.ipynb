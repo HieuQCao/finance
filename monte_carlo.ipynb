{
 "cells": [
  {
   "cell_type": "code",
   "execution_count": 1,
   "metadata": {},
   "outputs": [],
   "source": [
    "import numpy as np\n",
    "import pandas as pd\n",
    "import yfinance as yf\n",
    "import matplotlib.pyplot as plt\n",
    "import matplotlib.ticker as mtick\n",
    "from datetime import datetime\n",
    "from openpyxl import Workbook,load_workbook\n",
    "from openpyxl.utils import get_column_letter"
   ]
  },
  {
   "cell_type": "code",
   "execution_count": 9,
   "metadata": {},
   "outputs": [],
   "source": [
    "\n",
    "wb =load_workbook('FPT.xlsx',data_only=True)  # replace with your Excel file path\n",
    "sheet = wb.active\n",
    "def find_cell(sheet, value):\n",
    "    for row in sheet.iter_rows():\n",
    "        for cell in row:\n",
    "            if cell.value == value:\n",
    "                return cell\n",
    "    return None\n",
    "\n",
    "# Load DCF data from Excel\n",
    "wb = load_workbook('FPT.xlsx', data_only=True)  # replace with your Excel file path\n",
    "sheet = wb.active\n",
    "\n",
    "# Find the cells and get the values\n",
    "WACC_cell = find_cell(sheet, \"WACC\")\n",
    "WACC = WACC_cell.offset(column=1).value if WACC_cell else None\n",
    "\n",
    "terminal_growth_cell = find_cell(sheet, \"terminal growth\")\n",
    "terminal_growth = terminal_growth_cell.offset(column=1).value if terminal_growth_cell else None\n",
    "\n",
    "shares_outstanding_cell = find_cell(sheet, \"shares outstanding\")\n",
    "shares_outstanding = shares_outstanding_cell.offset(column=1).value / 1000000000 if shares_outstanding_cell else None\n",
    "\n",
    "cash_cell = find_cell(sheet, \"cash\")\n",
    "cash = cash_cell.offset(column=1).value * 1000 if cash_cell else None\n",
    "\n",
    "debt_cell = find_cell(sheet, \"debt\")\n",
    "debt = debt_cell.offset(column=1).value * 1000 if debt_cell else None\n",
    "\n",
    "# Get FCFs\n",
    "FCFs_cell = find_cell(sheet, \"PV of CF\")\n",
    "FCFs = []\n",
    "if FCFs_cell:\n",
    "    for col in range(FCFs_cell.column + 1, sheet.max_column + 1):\n",
    "        cell_value = sheet.cell(row=FCFs_cell.row, column=col).value\n",
    "        if cell_value is not None:\n",
    "            FCFs.append(cell_value * 1000)\n",
    "\n",
    "terminal_value = FCFs[-1]*(1+terminal_growth)/(WACC-terminal_growth) if FCFs else None"
   ]
  },
  {
   "cell_type": "code",
   "execution_count": 10,
   "metadata": {},
   "outputs": [
    {
     "name": "stdout",
     "output_type": "stream",
     "text": [
      "WACC:  0.10049218707258908\n",
      "terminal_value:  108248.07303604954\n",
      "Enterprise Value:  141296.66481619203\n",
      "Equity Value:  145450.66481619203\n",
      "Stock price 114530.8781680435\n"
     ]
    }
   ],
   "source": [
    "# Load DCF data from Excel\n",
    "wb =load_workbook('FPT.xlsx',data_only=True)  # replace with your Excel file path\n",
    "sheet = wb.active\n",
    "FCFs=[]\n",
    "for col in range(9, sheet.max_column + 1):  # Column 'I' is the 9th column\n",
    "    # Get the cell value\n",
    "    cell_value = sheet.cell(row=16, column=col).value\n",
    "    # Check if the cell value is not None\n",
    "    if cell_value is not None:\n",
    "        # Append the cell value to your FCFs list\n",
    "        FCFs.append(cell_value*1000)\n",
    "\n",
    "WACC = sheet['D17'].value \n",
    "terminal_growth = sheet['P11'].value\n",
    "shares_outstanding = sheet['I1'].value/1000000000\n",
    "terminal_value = FCFs[-1]*(1+terminal_growth)/(WACC-terminal_growth)\n",
    "cash= sheet['P19'].value*1000\n",
    "debt= sheet['P20'].value*1000\n",
    "EV=sum(FCFs)+terminal_value\n",
    "Equity_Value=EV-debt+cash\n",
    "stock_price=Equity_Value/shares_outstanding\n",
    "\n",
    "print('WACC: ',WACC)\n",
    "print('terminal_value: ',terminal_value)\n",
    "print('Enterprise Value: ',EV)\n",
    "print('Equity Value: ',Equity_Value)\n",
    "print('Stock price',stock_price)"
   ]
  },
  {
   "cell_type": "code",
   "execution_count": 11,
   "metadata": {},
   "outputs": [
    {
     "name": "stdout",
     "output_type": "stream",
     "text": [
      "[*********************100%%**********************]  1 of 1 completed\n"
     ]
    },
    {
     "name": "stderr",
     "output_type": "stream",
     "text": [
      "C:\\Users\\caoqu\\AppData\\Local\\Temp\\ipykernel_5484\\2974889305.py:5: FutureWarning: Series.__getitem__ treating keys as positions is deprecated. In a future version, integer keys will always be treated as labels (consistent with DataFrame behavior). To access a value by position, use `ser.iloc[pos]`\n",
      "  last_price = data['Adj Close'][-1]\n"
     ]
    }
   ],
   "source": [
    "# Download historical data\n",
    "ticker = 'FPT'  # replace with your stock's ticker\n",
    "end_date = datetime.now().strftime('%Y-%m-%d')  # get current date\n",
    "data = yf.download(ticker, start='2020-01-01', end=end_date)\n",
    "last_price = data['Adj Close'][-1]\n",
    "\n",
    "# Define your parameters\n",
    " # replace with your WACC\n",
    "num_simulations = 10000\n",
    "num_years = len(FCFs)"
   ]
  },
  {
   "cell_type": "code",
   "execution_count": 12,
   "metadata": {},
   "outputs": [],
   "source": [
    "# Run the simulations\n",
    "np.random.seed(0)  # for reproducibility\n",
    "simulated_company_values = []\n",
    "FCFs = [value for value in FCFs if value is not None]\n",
    "for i in range(num_simulations):\n",
    "    # Remove None values from FCFs\n",
    "# Now you can multiply FCFs by 0.1\n",
    "    \n",
    "    simulated_FCFs = np.random.normal(loc=FCFs, scale=0.1*np.array(FCFs))  # add some randomness to FCFs\n",
    "    simulated_WACC = np.random.normal(loc=WACC, scale=0.0075)  # add some randomness to WACC\n",
    "    simulated_terminal = np.random.normal(loc=terminal_growth, scale=0.005)\n",
    "    # Calculate the present value of FCFs\n",
    "   \n",
    "    terminal_value=FCFs[len(FCFs)-1]*(1+simulated_terminal)/(simulated_WACC-simulated_terminal)\n",
    "    # Calculate the company value\n",
    "    simulated_company_value = (sum(simulated_FCFs)+terminal_value+cash-debt)/shares_outstanding\n",
    "\n",
    "    simulated_company_values.append(simulated_company_value)"
   ]
  },
  {
   "cell_type": "code",
   "execution_count": 13,
   "metadata": {},
   "outputs": [],
   "source": [
    "# Calculate percentiles and probability of price increase\n",
    "p25 = np.percentile(simulated_company_values, 25)\n",
    "p50 = np.percentile(simulated_company_values, 50)\n",
    "p75 = np.percentile(simulated_company_values, 75)\n",
    "prob_increase = sum(np.array(simulated_company_values) > last_price) / num_simulations\n",
    "\n",
    "# Calculate percentage increase at each percentile\n",
    "p25_increase = ((p25 - last_price) / last_price) * 100\n",
    "p50_increase = ((p50 - last_price) / last_price) * 100\n",
    "p75_increase = ((p75 - last_price) / last_price) * 100"
   ]
  },
  {
   "cell_type": "code",
   "execution_count": 14,
   "metadata": {},
   "outputs": [
    {
     "data": {
      "image/png": "[encoded data removed]",
      "text/plain": [
       "<Figure size 640x480 with 1 Axes>"
      ]
     },
     "metadata": {},
     "output_type": "display_data"
    }
   ],
   "source": [
    "# Plot the histogram of simulated company values\n",
    "plt.hist(simulated_company_values, bins=50, color='skyblue', edgecolor='black')\n",
    "plt.axvline(x=p25, color='red', linestyle='dashed', linewidth=2)\n",
    "plt.axvline(x=p50, color='green', linestyle='dashed', linewidth=2)\n",
    "plt.axvline(x=p75, color='blue', linestyle='dashed', linewidth=2)\n",
    "plt.gca().xaxis.set_major_formatter(mtick.FormatStrFormatter('$%.0f'))  # add $ to x-axis labels\n",
    "plt.show()"
   ]
  },
  {
   "cell_type": "code",
   "execution_count": 15,
   "metadata": {},
   "outputs": [
    {
     "name": "stdout",
     "output_type": "stream",
     "text": [
      "25th percentile: $106141.75 (14.01%)\n",
      "50th percentile: $114606.14 (23.10%)\n",
      "75th percentile: $125252.40 (34.54%)\n",
      "Probability of price increase: 97.91%\n"
     ]
    }
   ],
   "source": [
    "print(f'25th percentile: ${p25:.2f} ({p25_increase:.2f}%)')\n",
    "print(f'50th percentile: ${p50:.2f} ({p50_increase:.2f}%)')\n",
    "print(f'75th percentile: ${p75:.2f} ({p75_increase:.2f}%)')\n",
    "print(f'Probability of price increase: {prob_increase * 100:.2f}%')"
   ]
  }
 ],
 "metadata": {
  "kernelspec": {
   "display_name": "base",
   "language": "python",
   "name": "python3"
  },
  "language_info": {
   "codemirror_mode": {
    "name": "ipython",
    "version": 3
   },
   "file_extension": ".py",
   "mimetype": "text/x-python",
   "name": "python",
   "nbconvert_exporter": "python",
   "pygments_lexer": "ipython3",
   "version": "3.11.5"
  }
 },
 "nbformat": 4,
 "nbformat_minor": 2
}
